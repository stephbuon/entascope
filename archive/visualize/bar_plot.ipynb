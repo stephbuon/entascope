{
 "cells": [
  {
   "cell_type": "code",
   "execution_count": null,
   "metadata": {},
   "outputs": [],
   "source": [
    "import pandas as pd\n",
    "import matplotlib as plt\n",
    "\n",
    "stopwords = ['sign', 'signed', 'said', 'speak', 'speaks', 'address', 'deliver', 'delivered', 'delivers', 'tell', 'told', 'talk', 'talks', 'announce', 'announced', 'announces']\n",
    "\n",
    "subject_verb_pairs = []\n",
    "for string in extracted_triples['NPR']:\n",
    "    if not 'Not' in string:\n",
    "        subject_verb_pairs.append(' '.join(string.split()[0:2]))\n",
    "    else:\n",
    "        subject_verb_pairs.append(' '.join(string.split()[0:3]))\n",
    "\n",
    "#subject_verb_pairs = remove_stopwords(subject_verb_pairs, stopwords)\n",
    "\n",
    "#subject_verb_count = count_words(subject_verb_pairs)\n",
    "\n",
    "#for_plotting = pd.DataFrame(subject_verb_count.items(), columns=['text', 'count'])\n",
    "\n",
    "#for_plotting.to_csv('news_triples.csv')\n",
    "\n",
    "#plt.rcParams['figure.figsize'] = [15, 10]\n",
    "\n",
    "#for_plotting.sort_values(by=['count'], inplace=True, ascending=False)\n",
    "\n",
    "#top_for_plotting = for_plotting[:50].copy()\n",
    "\n",
    "#top_for_plotting.sort_values(by=['count'], inplace=True, ascending=True)\n",
    "\n",
    "#top_for_plotting.plot.barh(x = 'text', y = 'count',\n",
    "#                       title = 'Top Subject-Verb Relationships')"
   ]
  }
 ],
 "metadata": {
  "language_info": {
   "name": "python"
  },
  "orig_nbformat": 4
 },
 "nbformat": 4,
 "nbformat_minor": 2
}
