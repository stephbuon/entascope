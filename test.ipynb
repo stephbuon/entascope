{
 "cells": [
  {
   "cell_type": "code",
   "execution_count": 1,
   "metadata": {},
   "outputs": [],
   "source": [
    "import pandas as pd\n",
    "\n",
    "source = 'NPR'\n",
    "filter_by = 'PERSON'\n",
    "\n",
    "a = pd.read_csv('/home/stephbuon/projects/entascope/data/results/12-27-2021/' + source + '_' + filter_by + '.csv')"
   ]
  },
  {
   "cell_type": "code",
   "execution_count": 10,
   "metadata": {},
   "outputs": [
    {
     "data": {
      "text/plain": [
       "28.88102"
      ]
     },
     "execution_count": 10,
     "metadata": {},
     "output_type": "execute_result"
    }
   ],
   "source": [
    "0.357615 + 0.357615 + 0.368344 + 0.368344 + 0.379072 + 0.421986 + 0.704502 + 0.843972 + 1.051389 + 4.702643 + 4.334299 + 2.775096 + 2.607016 + 2.185030 + 2.081322 + 2.016951 + 1.916819 + 1.409005"
   ]
  },
  {
   "cell_type": "code",
   "execution_count": 11,
   "metadata": {},
   "outputs": [
    {
     "data": {
      "text/plain": [
       "0.6499275408498311"
      ]
     },
     "execution_count": 11,
     "metadata": {},
     "output_type": "execute_result"
    }
   ],
   "source": [
    "28.88102/44.4372921360369"
   ]
  },
  {
   "cell_type": "code",
   "execution_count": 9,
   "metadata": {},
   "outputs": [
    {
     "name": "stdout",
     "output_type": "stream",
     "text": [
      "0     5.321317\n",
      "1     4.702643\n",
      "2     4.334299\n",
      "3     2.775096\n",
      "4     2.732182\n",
      "5     2.607016\n",
      "6     2.185030\n",
      "7     2.081322\n",
      "8     2.016951\n",
      "9     1.916819\n",
      "10    1.634302\n",
      "11    1.409005\n",
      "12    1.051389\n",
      "13    0.861853\n",
      "14    0.843972\n",
      "15    0.779602\n",
      "16    0.736688\n",
      "17    0.715231\n",
      "18    0.704502\n",
      "19    0.693774\n",
      "20    0.668741\n",
      "21    0.518542\n",
      "22    0.504238\n",
      "23    0.421986\n",
      "24    0.389801\n",
      "25    0.379072\n",
      "26    0.368344\n",
      "27    0.368344\n",
      "28    0.357615\n",
      "29    0.357615\n",
      "Name: proportion, dtype: float64\n"
     ]
    },
    {
     "data": {
      "text/plain": [
       "44.4372921360369"
      ]
     },
     "execution_count": 9,
     "metadata": {},
     "output_type": "execute_result"
    }
   ],
   "source": [
    "new = a['proportion'].nlargest(n=30)\n",
    "print(new)\n",
    "new.sum()"
   ]
  },
  {
   "cell_type": "code",
   "execution_count": 18,
   "metadata": {},
   "outputs": [
    {
     "data": {
      "text/plain": [
       "16.588038"
      ]
     },
     "execution_count": 18,
     "metadata": {},
     "output_type": "execute_result"
    }
   ],
   "source": [
    "5.516719 + 2.927098 + 1.429113 + 1.398120 + 1.201832 + 0.922897 + 0.902235 + 0.847137 + 0.795482 + 0.647405"
   ]
  },
  {
   "cell_type": "code",
   "execution_count": 19,
   "metadata": {},
   "outputs": [
    {
     "data": {
      "text/plain": [
       "0.4866640083673468"
      ]
     },
     "execution_count": 19,
     "metadata": {},
     "output_type": "execute_result"
    }
   ],
   "source": [
    "16.588038/34.085195771204255\n"
   ]
  }
 ],
 "metadata": {
  "interpreter": {
   "hash": "31f2aee4e71d21fbe5cf8b01ff0e069b9275f58929596ceb00d14d90e3e16cd6"
  },
  "kernelspec": {
   "display_name": "Python 3.9.7 64-bit",
   "language": "python",
   "name": "python3"
  },
  "language_info": {
   "codemirror_mode": {
    "name": "ipython",
    "version": 3
   },
   "file_extension": ".py",
   "mimetype": "text/x-python",
   "name": "python",
   "nbconvert_exporter": "python",
   "pygments_lexer": "ipython3",
   "version": "3.9.7"
  },
  "orig_nbformat": 4
 },
 "nbformat": 4,
 "nbformat_minor": 2
}
